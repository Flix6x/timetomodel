{
 "cells": [
  {
   "cell_type": "markdown",
   "metadata": {},
   "source": [
    "# Check out how well a model is performing on different data\n",
    "\n",
    "In this notebook several different models are compared with each other. This fitted model is then evaluated.\n",
    "\n",
    "\n",
    "Also includes basic version of AR ARIMA and GLM models. "
   ]
  },
  {
   "cell_type": "code",
   "execution_count": null,
   "metadata": {
    "collapsed": false
   },
   "outputs": [],
   "source": [
    "# import packages\n",
    "import pandas as pd\n",
    "import importlib\n",
    "from datetime import datetime, timedelta\n",
    "# import custom modules\n",
    "from ts_forecasting import speccing, modelling, featuring\n",
    "# useful for reloading after changes were made to the code\n",
    "importlib.reload(speccing)\n",
    "importlib.reload(modelling)\n",
    "importlib.reload(featuring)\n",
    "%matplotlib inline\n",
    "PATH_TO_DATA = '../data/pickles'\n",
    "modelling.MODEL_DIR = \"../models\"\n",
    "\n",
    "\n",
    "def day_lags(lags):\n",
    "    return  [l * 96 for l in lags]\n",
    "\n",
    "\n",
    "def hour_lags(lags):\n",
    "    return  [l * 4 for l in lags]"
   ]
  },
  {
   "cell_type": "code",
   "execution_count": null,
   "metadata": {
    "collapsed": true
   },
   "outputs": [],
   "source": [
    "\n",
    "%matplotlib inline\n",
    "from matplotlib import pyplot as plt\n",
    "import matplotlib\n",
    "\n",
    "from pylab import rcParams\n",
    "from collections import OrderedDict\n",
    "plt.style.use('ggplot')\n",
    "figsize = OrderedDict((('width', 14), ('height', 5)))\n",
    "rcParams['figure.figsize'] = figsize.values()\n",
    "rcParams['font.size'] = 15\n",
    "rcParams['xtick.labelsize'] = 13\n",
    "rcParams['ytick.labelsize'] = 13\n",
    "rcParams['legend.frameon'] = True\n",
    "rcParams['legend.framealpha'] = 0.8\n",
    "rcParams['legend.fontsize'] = 13"
   ]
  },
  {
   "cell_type": "code",
   "execution_count": null,
   "metadata": {
    "collapsed": true
   },
   "outputs": [],
   "source": [
    "start = datetime(2015, 4, 13, 1, 45)"
   ]
  },
  {
   "cell_type": "markdown",
   "metadata": {},
   "source": [
    "# Solar production\n",
    "## With total radiation"
   ]
  },
  {
   "cell_type": "code",
   "execution_count": null,
   "metadata": {
    "collapsed": true
   },
   "outputs": [],
   "source": [
    "\n",
    "def create_difference(df: pd.DataFrame) -> pd.DataFrame:\n",
    "    \"\"\"\n",
    "    create differnce between two variables, and drops these\n",
    "    note: the variables used for the generation of the difference are dropped. So even if in ModelSpecs they are defined with the 'lags' parameter.\n",
    "    \"\"\"\n",
    "    df['difference'] = df.solar_production_l24 - df.solar_production_l120\n",
    "    df.drop(columns=['solar_production_l24','solar_production_l120'], inplace=True)\n",
    "    return df\n"
   ]
  },
  {
   "cell_type": "markdown",
   "metadata": {},
   "source": [
    "__The next three models are an investigation into the usefulness of adding very recent data (up to 6 hours ago), for the prediction of horizon of 6 hours.__\n",
    "\n",
    "For comparison reasons, these models take into account only the last day (24 hours ago) and optionally a variable for the production of 6 hours ago."
   ]
  },
  {
   "cell_type": "code",
   "execution_count": null,
   "metadata": {
    "collapsed": false
   },
   "outputs": [],
   "source": [
    "# Describe the model\n",
    "\n",
    "## model uses data for production of 24 hours ago and the difference of 6 and 30 hours ago. The rationale for this is that the difference can help to improve predictions during the day:\n",
    "## If you know at 9 AM that the production for that moment is higher or lower than 9 AM 24 hours ago, this can be useful for the prediction of 3 PM. \n",
    "\n",
    "outcome_var_spec = speccing.DFFileSeriesSpecs(\"%s/df_ss_pv_res15T.pickle\" % PATH_TO_DATA,\n",
    "                                            column=\"y\", name=\"solar_production\")\n",
    "regressor_specs = [speccing.SeriesSpecs(column='y', name='difference')]\n",
    "specs = modelling.ModelSpecs(outcome_var=outcome_var_spec,\n",
    "                             model_type=\"OLS\",\n",
    "                             lags=hour_lags([6,24,30]),\n",
    "                             regressors=regressor_specs,\n",
    "                             start_of_data=start,\n",
    "                             end_of_data=start + timedelta(days=32),\n",
    "                             ratio_training_test_data=13 / 15,\n",
    "                             horizons=[\"6H\", \"48H\"],\n",
    "                             transform=create_difference)\n",
    "print(specs)\n",
    "\n",
    "\n",
    "\n",
    "# Create and train the model\n",
    "model = modelling.create_model(specs, \"0.1\")\n",
    "\n",
    "# Evaluate the model\n",
    "model.summary()\n",
    "modelling.evaluate_models(m1=(model, specs))"
   ]
  },
  {
   "cell_type": "code",
   "execution_count": null,
   "metadata": {
    "collapsed": false
   },
   "outputs": [],
   "source": [
    "## statistics show that using the difference in this way is insigficant. Also the effect is very small (as can be seen from the graph above)\n",
    "\n",
    "model.summary()"
   ]
  },
  {
   "cell_type": "code",
   "execution_count": null,
   "metadata": {
    "collapsed": false
   },
   "outputs": [],
   "source": [
    "# Describe the model\n",
    "\n",
    "## model uses data for production of 24 hours ago and 6 hours ago.\n",
    "\n",
    "outcome_var_spec = speccing.DFFileSeriesSpecs(\"%s/df_ss_pv_res15T.pickle\" % PATH_TO_DATA,\n",
    "                                            column=\"y\", name=\"solar_production\")\n",
    "regressor_specs = [speccing.DFFileSeriesSpecs(\"%s/df_total_radiation_res15T.pickle\" % PATH_TO_DATA,\n",
    "                                            column=\"y\", name=\"radiation_forecast_2days_l2\")]\n",
    "specs = modelling.ModelSpecs(outcome_var=outcome_var_spec,\n",
    "                             model_type=\"OLS\",\n",
    "                             lags=hour_lags([6,24]),\n",
    "                             regressors=[],\n",
    "                             start_of_data=start,\n",
    "                             end_of_data=start + timedelta(days=32),\n",
    "                             ratio_training_test_data=13 / 15,\n",
    "                             horizons=[\"6H\", \"48H\"])\n",
    "print(specs)\n",
    "\n",
    "# Create and train the model\n",
    "model = modelling.create_model(specs, \"0.1\")\n",
    "\n",
    "# Evaluate the model\n",
    "model.summary()\n",
    "modelling.evaluate_models(m1=(model, specs))"
   ]
  },
  {
   "cell_type": "code",
   "execution_count": null,
   "metadata": {
    "collapsed": false
   },
   "outputs": [],
   "source": [
    "## small difference compared to previous model. slightly better RMSE and significant coef for solar_production_l24 and solar_production_l96\n",
    "\n",
    "model.summary()"
   ]
  },
  {
   "cell_type": "code",
   "execution_count": null,
   "metadata": {
    "collapsed": false
   },
   "outputs": [],
   "source": [
    "# Describe the model\n",
    "outcome_var_spec = speccing.DFFileSeriesSpecs(\"%s/df_ss_pv_res15T.pickle\" % PATH_TO_DATA,\n",
    "                                            column=\"y\", name=\"solar_production\")\n",
    "regressor_specs = [speccing.DFFileSeriesSpecs(\"%s/df_total_radiation_res15T.pickle\" % PATH_TO_DATA,\n",
    "                                            column=\"y\", name=\"radiation_forecast_2days_l2\")]\n",
    "specs = modelling.ModelSpecs(outcome_var=outcome_var_spec,\n",
    "                             model_type=\"OLS\",\n",
    "                             lags=hour_lags([24]),\n",
    "                             regressors=[],\n",
    "                             start_of_data=start,\n",
    "                             end_of_data=start + timedelta(days=32),\n",
    "                             ratio_training_test_data=13 / 15,\n",
    "                             horizons=[\"6H\", \"48H\"])\n",
    "print(specs)\n",
    "\n",
    "# Create and train the model\n",
    "model = modelling.create_model(specs, \"0.1\")\n",
    "\n",
    "# Evaluate the model\n",
    "model.summary()\n",
    "modelling.evaluate_models(m1=(model, specs))"
   ]
  },
  {
   "cell_type": "code",
   "execution_count": null,
   "metadata": {
    "collapsed": false
   },
   "outputs": [],
   "source": [
    "## also small difference. Worst RMSE of three models\n",
    "\n",
    "model.summary()"
   ]
  },
  {
   "cell_type": "markdown",
   "metadata": {},
   "source": [
    "## conclusion\n",
    "\n",
    "The three models compare almost the same. As discussed, data from 6 hours ago likely contains information that could improve the prediction with a 6 hour horizon over using data from 24 hours ago or longer. \n",
    "\n",
    "However, the current models above cannot make the best use of this information (models only slightly improve when data from 6 hours ago is added). One suggestion that is worth exploring is to see wether the '6 hour ago' information is only used when it is relevant. This can be done by adding a dummy variable that is '1' for 6 hours after the first radiation/production > 0 until the moment of the last radiation/production > 0 for that day. By creating an interaction term with this dummy, the 6 hour ago data is only used when it can most likely inprove the predictions. "
   ]
  },
  {
   "cell_type": "markdown",
   "metadata": {},
   "source": [
    "___\n",
    "## example of generating a model with confidence interval or prediction interval for each prediction\n"
   ]
  },
  {
   "cell_type": "code",
   "execution_count": null,
   "metadata": {
    "collapsed": false
   },
   "outputs": [],
   "source": [
    "# Describe the model\n",
    "outcome_var_spec = speccing.DFFileSeriesSpecs(\"%s/df_ss_pv_res15T.pickle\" % PATH_TO_DATA,\n",
    "                                            column=\"y\", name=\"solar_production\")\n",
    "regressor_specs = [speccing.DFFileSeriesSpecs(\"%s/df_total_radiation_res15T.pickle\" % PATH_TO_DATA,\n",
    "                                            column=\"y\", name=\"radiation_forecast_2days_l2\")]\n",
    "specs = modelling.ModelSpecs(outcome_var=outcome_var_spec,\n",
    "                             model_type=\"OLS\",\n",
    "                             lags=hour_lags([6, 24]),\n",
    "                             regressors=[],\n",
    "                             start_of_data=start,\n",
    "                             end_of_data=start + timedelta(days=32),\n",
    "                             ratio_training_test_data=13 / 15,\n",
    "                             horizons=[\"6H\", \"48H\"])\n",
    "print(specs)\n",
    "\n",
    "# Create and train the model\n",
    "model = modelling.create_model(specs, \"0.1\")\n",
    "\n",
    "# Evaluate the model\n",
    "model.summary()\n",
    "modelling.evaluate_models(m1=(model, specs))"
   ]
  },
  {
   "cell_type": "code",
   "execution_count": null,
   "metadata": {
    "collapsed": false
   },
   "outputs": [],
   "source": [
    "# model.summary()"
   ]
  },
  {
   "cell_type": "code",
   "execution_count": null,
   "metadata": {
    "collapsed": false
   },
   "outputs": [],
   "source": [
    "predictions = model.get_prediction()\n",
    "confidence_intervals = predictions.summary_frame()[['mean_ci_lower','mean_ci_upper']]\n",
    "confidence_intervals['predictions'] = model.predict()\n",
    "confidence_intervals.iloc[:200].plot()"
   ]
  },
  {
   "cell_type": "code",
   "execution_count": null,
   "metadata": {
    "collapsed": false
   },
   "outputs": [],
   "source": [
    "prediction_intervals = predictions.summary_frame()[['obs_ci_lower','obs_ci_upper']]\n",
    "prediction_intervals['predictions'] = model.predict()\n",
    "prediction_intervals.iloc[:200].plot()\n",
    "## prediction intervals can be below zero :("
   ]
  },
  {
   "cell_type": "markdown",
   "metadata": {},
   "source": [
    "## arima\n",
    "some time series models are compared below: OLS on panel data, an AR and an ARIMA model. Only the data frame is constructed using the modules. The actual models are run in the notebook by using the respective packages."
   ]
  },
  {
   "cell_type": "code",
   "execution_count": null,
   "metadata": {
    "collapsed": false
   },
   "outputs": [],
   "source": [
    "# Describe the model\n",
    "outcome_var_spec = speccing.DFFileSeriesSpecs(\"%s/df_ss_pv_res15T.pickle\" % PATH_TO_DATA,\n",
    "                                            column=\"y\", name=\"solar_production\")\n",
    "regressor_specs = [speccing.DFFileSeriesSpecs(\"%s/df_total_radiation_res15T.pickle\" % PATH_TO_DATA,\n",
    "                                            column=\"y\", name=\"radiation_forecast_2days_l2\")]\n",
    "specs = modelling.ModelSpecs(outcome_var=outcome_var_spec,\n",
    "                             model_type=\"OLS\",\n",
    "                             lags=hour_lags([24,48]),\n",
    "                             regressors=regressor_specs,\n",
    "                             start_of_data=start,\n",
    "                             end_of_data=start + timedelta(days=200),\n",
    "                             ratio_training_test_data=13 / 15,\n",
    "                             horizons=[\"6H\", \"48H\"])\n",
    "print(specs)\n"
   ]
  },
  {
   "cell_type": "code",
   "execution_count": null,
   "metadata": {
    "collapsed": false
   },
   "outputs": [],
   "source": [
    "\n",
    "## run on same hours accross days, so one lage will be the same time the day before for both the OLS model and AR models.\n",
    "\n",
    "input_df = featuring.construct_dataframe(specs, 'train')\n",
    "input_df_one_moment = input_df[(input_df.index.hour==15) & (input_df.index.minute==15)]\n",
    "input_df_one_moment['const'] = 1\n",
    "input_df_one_moment = input_df_one_moment[~pd.isnull(input_df_one_moment).any(axis=1)]\n"
   ]
  },
  {
   "cell_type": "code",
   "execution_count": null,
   "metadata": {
    "collapsed": false
   },
   "outputs": [],
   "source": [
    "input_df_one_moment.head()"
   ]
  },
  {
   "cell_type": "code",
   "execution_count": null,
   "metadata": {
    "collapsed": true
   },
   "outputs": [],
   "source": [
    "import statsmodels.api as sm\n",
    "import numpy as np"
   ]
  },
  {
   "cell_type": "code",
   "execution_count": null,
   "metadata": {
    "collapsed": false
   },
   "outputs": [],
   "source": [
    "model = sm.OLS(np.array(input_df_one_moment.iloc[2:]['solar_production']),\n",
    "                            input_df_one_moment.iloc[2:][['solar_production_l96','solar_production_l192','const']])\n",
    "\n",
    "results = model.fit()\n",
    "\n",
    "results.summary()"
   ]
  },
  {
   "cell_type": "code",
   "execution_count": null,
   "metadata": {
    "collapsed": false
   },
   "outputs": [],
   "source": [
    "# This produce the same results. Note that the first two observations are left out for OLS to make sure that exactly the same data is used for training: the first two observations have lagged variables, but AR cannot lag these observations. \n",
    "model = sm.tsa.AR(pd.DataFrame(input_df_one_moment['solar_production']))\n",
    "\n",
    "results = model.fit(maxlag=2)\n",
    "results.params\n"
   ]
  },
  {
   "cell_type": "code",
   "execution_count": null,
   "metadata": {
    "collapsed": false
   },
   "outputs": [],
   "source": [
    "# ARIMA model where order can be adjusted and exog variables can optionally be added.\n",
    "model = sm.tsa.ARIMA(pd.DataFrame(input_df_one_moment['solar_production']), order=(2, 0, 2),\n",
    "                    exog=pd.DataFrame(input_df_one_moment['radiation_forecast_2days_l2']))  \n",
    "\n",
    "results = model.fit(maxlag=2)\n",
    "results.params\n",
    "results.summary()"
   ]
  },
  {
   "cell_type": "markdown",
   "metadata": {},
   "source": [
    "## glm\n",
    "At last a glm model is created that might help to overcome the <0 prediction intervals. This is still work in progress."
   ]
  },
  {
   "cell_type": "code",
   "execution_count": null,
   "metadata": {
    "collapsed": false
   },
   "outputs": [],
   "source": [
    "# Instantiate a gamma family model with the default link function.\n",
    "gamma_model = sm.GLM(np.array(input_df_one_moment.iloc[2:]['solar_production']),\n",
    "                     input_df_one_moment.iloc[2:][['solar_production_l96','solar_production_l192','const']],\n",
    "                     family=sm.families.Gamma())\n",
    "\n",
    "gamma_results = gamma_model.fit()\n",
    "\n",
    "gamma_results.summary()"
   ]
  },
  {
   "cell_type": "code",
   "execution_count": null,
   "metadata": {
    "collapsed": false
   },
   "outputs": [],
   "source": [
    "predictions = gamma_results.get_prediction()\n",
    "confidence_intervals = predictions.summary_frame()[['mean_ci_lower','mean_ci_upper']]\n",
    "confidence_intervals.plot()"
   ]
  }
 ],
 "metadata": {
  "anaconda-cloud": {},
  "kernelspec": {
   "display_name": "Python [Root]",
   "language": "python",
   "name": "Python [Root]"
  },
  "language_info": {
   "codemirror_mode": {
    "name": "ipython",
    "version": 3
   },
   "file_extension": ".py",
   "mimetype": "text/x-python",
   "name": "python",
   "nbconvert_exporter": "python",
   "pygments_lexer": "ipython3",
   "version": "3.5.2"
  }
 },
 "nbformat": 4,
 "nbformat_minor": 2
}
