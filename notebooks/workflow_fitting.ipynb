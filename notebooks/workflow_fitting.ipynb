{
 "cells": [
  {
   "cell_type": "markdown",
   "metadata": {},
   "source": [
    "# Simple model workflow\n",
    "\n",
    "This notebook creates a simple model on solar data with one regressor. This fitted model is then evaluated."
   ]
  },
  {
   "cell_type": "code",
   "execution_count": 1,
   "metadata": {},
   "outputs": [],
   "source": [
    "## import packages\n",
    "import pandas as pd\n",
    "import importlib\n",
    "from datetime import datetime, timedelta\n",
    "\n",
    "%matplotlib inline"
   ]
  },
  {
   "cell_type": "code",
   "execution_count": 2,
   "metadata": {},
   "outputs": [
    {
     "name": "stderr",
     "output_type": "stream",
     "text": [
      "/home/nicolas/anaconda3/envs/forecasting-venv/lib/python3.6/site-packages/statsmodels/compat/pandas.py:56: FutureWarning: The pandas.core.datetools module is deprecated and will be removed in a future version. Please use the pandas.tseries module instead.\n",
      "  from pandas.core import datetools\n"
     ]
    }
   ],
   "source": [
    "## import custom modules\n",
    "from ts_forecasting import speccing, modelling, featuring"
   ]
  },
  {
   "cell_type": "code",
   "execution_count": 3,
   "metadata": {},
   "outputs": [
    {
     "data": {
      "text/plain": [
       "<module 'ts_forecasting.featuring' from '/home/nicolas/workspace/seita/load-forecasting/ts_forecasting/featuring.py'>"
      ]
     },
     "execution_count": 3,
     "metadata": {},
     "output_type": "execute_result"
    }
   ],
   "source": [
    "# useful for relaoding after changes were made to the code\n",
    "importlib.reload(speccing)\n",
    "importlib.reload(modelling)\n",
    "importlib.reload(featuring)"
   ]
  },
  {
   "cell_type": "markdown",
   "metadata": {},
   "source": [
    "## Describing the model"
   ]
  },
  {
   "cell_type": "code",
   "execution_count": 4,
   "metadata": {},
   "outputs": [
    {
     "name": "stdout",
     "output_type": "stream",
     "text": [
      "ModelSpecs: <{'creation_time': datetime.datetime(2018, 4, 19, 17, 34, 27, 409515),\n",
      " 'end_of_data': datetime.datetime(2015, 5, 15, 1, 45),\n",
      " 'horizons': ['6H', '48H'],\n",
      " 'lags': [-192, -288, -384, -480, -576, -672],\n",
      " 'model_filename': None,\n",
      " 'model_type': 'OLS',\n",
      " 'outcome_var': DFFileSeriesSpecs: <{'column': 'y', 'name': 'solar_production', 'file_path': '../data/pickles/df_ss_pv_res15T.pickle'}>,\n",
      " 'ratio_training_test_data': 0.9333333333333333,\n",
      " 'regressors': [DFFileSeriesSpecs: <{'column': 'y', 'name': 'radiation_forecast_2days_l2', 'file_path': '../data/pickles/df_total_radiation_res15T.pickle'}>],\n",
      " 'remodel_frequency': datetime.timedelta(1),\n",
      " 'start_of_data': datetime.datetime(2015, 4, 13, 1, 45),\n",
      " 'transform': <function make_forecast_for_now at 0x7f9de4378268>}>\n"
     ]
    }
   ],
   "source": [
    "PATH_TO_DATA = '../data/pickles'\n",
    "modelling.MODEL_DIR = \"../models\"\n",
    "\n",
    "start = datetime(2015, 4, 13, 1, 45)\n",
    "outcome_var_spec = speccing.DFFileSeriesSpecs(\"%s/df_ss_pv_res15T.pickle\" % PATH_TO_DATA,\n",
    "                                            column=\"y\", name=\"solar_production\")\n",
    "\n",
    "def day_lags(lags):\n",
    "    return  [l * 96 for l in lags]\n",
    "\n",
    "\n",
    "def make_forecast_for_now(df: pd.DataFrame) -> pd.DataFrame:\n",
    "    \"\"\"Generate a variable for 'forecast' of radiation at time t.\n",
    "    Basically the actual value of t+2 is viewed as the prediction at t of day t+2.\n",
    "    Therefore, there is no function for this, as this is 'faked' data.\n",
    "    \"\"\"\n",
    "    # First rename to an initial name, we'll return to this name eventually\n",
    "    df.rename(columns={'radiation_forecast_2days_l2': 'radiation'}, inplace=True)\n",
    "    featuring.add_lags(df, 'radiation', day_lags([2]), name_as=\"day\", inplace=True)\n",
    "    df.rename(columns={'radiation_f2': 'radiation_forecast_2days'}, inplace=True)\n",
    "    featuring.add_lags(df, 'radiation_forecast_2days', day_lags([-2]), name_as=\"day\", inplace=True)\n",
    "    return df\n",
    "    \n",
    "    \n",
    "regressor_specs = [speccing.DFFileSeriesSpecs(\"%s/df_total_radiation_res15T.pickle\" % PATH_TO_DATA,\n",
    "                                            column=\"y\", name=\"radiation_forecast_2days_l2\")\n",
    "                  ]\n",
    "\n",
    "\n",
    "specs = modelling.ModelSpecs(outcome_var=outcome_var_spec,\n",
    "                             model_type=\"OLS\",\n",
    "                             lags=day_lags([-2,-3,-4,-5,-6,-7]),\n",
    "                             regressors=regressor_specs,\n",
    "                             start_of_data=start,\n",
    "                             end_of_data=start + timedelta(days=32),\n",
    "                             ratio_training_test_data=14 / 15,\n",
    "                             horizons=[\"6H\", \"48H\"],\n",
    "                             transform=make_forecast_for_now)\n",
    "\n",
    "\n",
    "# INCLUDE_CONSTANT = True  # TODO\n",
    "\n",
    "print(specs)"
   ]
  },
  {
   "cell_type": "markdown",
   "metadata": {},
   "source": [
    "## Creating and training the model"
   ]
  },
  {
   "cell_type": "code",
   "execution_count": 5,
   "metadata": {},
   "outputs": [
    {
     "name": "stdout",
     "output_type": "stream",
     "text": [
      "Start of training: 2015-04-13 01:45:00\n",
      "End of training: 2015-05-12 22:30:00\n",
      "Index(['const', 'solar_production', 'radiation'], dtype='object')\n",
      "Index(['const', 'solar_production', 'radiation', 'radiation_f2'], dtype='object')\n",
      "Index(['const', 'solar_production', 'radiation', 'radiation_forecast_2days'], dtype='object')\n"
     ]
    }
   ],
   "source": [
    "model = modelling.create_model(specs, \"0.1\")"
   ]
  },
  {
   "cell_type": "markdown",
   "metadata": {},
   "source": [
    "## Evaluating the model"
   ]
  },
  {
   "cell_type": "code",
   "execution_count": 6,
   "metadata": {},
   "outputs": [
    {
     "data": {
      "text/html": [
       "<table class=\"simpletable\">\n",
       "<caption>OLS Regression Results</caption>\n",
       "<tr>\n",
       "  <th>Dep. Variable:</th>            <td>y</td>        <th>  R-squared:         </th> <td>   0.851</td>\n",
       "</tr>\n",
       "<tr>\n",
       "  <th>Model:</th>                   <td>OLS</td>       <th>  Adj. R-squared:    </th> <td>   0.850</td>\n",
       "</tr>\n",
       "<tr>\n",
       "  <th>Method:</th>             <td>Least Squares</td>  <th>  F-statistic:       </th> <td>   2331.</td>\n",
       "</tr>\n",
       "<tr>\n",
       "  <th>Date:</th>             <td>Thu, 19 Apr 2018</td> <th>  Prob (F-statistic):</th>  <td>  0.00</td> \n",
       "</tr>\n",
       "<tr>\n",
       "  <th>Time:</th>                 <td>17:34:27</td>     <th>  Log-Likelihood:    </th> <td> -3909.8</td>\n",
       "</tr>\n",
       "<tr>\n",
       "  <th>No. Observations:</th>      <td>  2868</td>      <th>  AIC:               </th> <td>   7834.</td>\n",
       "</tr>\n",
       "<tr>\n",
       "  <th>Df Residuals:</th>          <td>  2861</td>      <th>  BIC:               </th> <td>   7875.</td>\n",
       "</tr>\n",
       "<tr>\n",
       "  <th>Df Model:</th>              <td>     7</td>      <th>                     </th>     <td> </td>   \n",
       "</tr>\n",
       "<tr>\n",
       "  <th>Covariance Type:</th>      <td>nonrobust</td>    <th>                     </th>     <td> </td>   \n",
       "</tr>\n",
       "</table>\n",
       "<table class=\"simpletable\">\n",
       "<tr>\n",
       "               <td></td>                  <th>coef</th>     <th>std err</th>      <th>t</th>      <th>P>|t|</th>  <th>[0.025</th>    <th>0.975]</th>  \n",
       "</tr>\n",
       "<tr>\n",
       "  <th>solar_production_l192</th>       <td>    0.2127</td> <td>    0.020</td> <td>   10.422</td> <td> 0.000</td> <td>    0.173</td> <td>    0.253</td>\n",
       "</tr>\n",
       "<tr>\n",
       "  <th>solar_production_l288</th>       <td>   -0.0264</td> <td>    0.020</td> <td>   -1.305</td> <td> 0.192</td> <td>   -0.066</td> <td>    0.013</td>\n",
       "</tr>\n",
       "<tr>\n",
       "  <th>solar_production_l384</th>       <td>   -0.0153</td> <td>    0.018</td> <td>   -0.830</td> <td> 0.407</td> <td>   -0.051</td> <td>    0.021</td>\n",
       "</tr>\n",
       "<tr>\n",
       "  <th>solar_production_l480</th>       <td>    0.3211</td> <td>    0.018</td> <td>   17.362</td> <td> 0.000</td> <td>    0.285</td> <td>    0.357</td>\n",
       "</tr>\n",
       "<tr>\n",
       "  <th>solar_production_l576</th>       <td>    0.1748</td> <td>    0.018</td> <td>    9.657</td> <td> 0.000</td> <td>    0.139</td> <td>    0.210</td>\n",
       "</tr>\n",
       "<tr>\n",
       "  <th>solar_production_l672</th>       <td>    0.2488</td> <td>    0.019</td> <td>   13.275</td> <td> 0.000</td> <td>    0.212</td> <td>    0.286</td>\n",
       "</tr>\n",
       "<tr>\n",
       "  <th>radiation_forecast_2days_l2</th> <td>    0.9231</td> <td>    0.136</td> <td>    6.786</td> <td> 0.000</td> <td>    0.656</td> <td>    1.190</td>\n",
       "</tr>\n",
       "</table>\n",
       "<table class=\"simpletable\">\n",
       "<tr>\n",
       "  <th>Omnibus:</th>       <td>260.571</td> <th>  Durbin-Watson:     </th> <td>   0.028</td> \n",
       "</tr>\n",
       "<tr>\n",
       "  <th>Prob(Omnibus):</th> <td> 0.000</td>  <th>  Jarque-Bera (JB):  </th> <td>1410.339</td> \n",
       "</tr>\n",
       "<tr>\n",
       "  <th>Skew:</th>          <td>-0.244</td>  <th>  Prob(JB):          </th> <td>5.61e-307</td>\n",
       "</tr>\n",
       "<tr>\n",
       "  <th>Kurtosis:</th>      <td> 6.401</td>  <th>  Cond. No.          </th> <td>    40.9</td> \n",
       "</tr>\n",
       "</table>"
      ],
      "text/plain": [
       "<class 'statsmodels.iolib.summary.Summary'>\n",
       "\"\"\"\n",
       "                            OLS Regression Results                            \n",
       "==============================================================================\n",
       "Dep. Variable:                      y   R-squared:                       0.851\n",
       "Model:                            OLS   Adj. R-squared:                  0.850\n",
       "Method:                 Least Squares   F-statistic:                     2331.\n",
       "Date:                Thu, 19 Apr 2018   Prob (F-statistic):               0.00\n",
       "Time:                        17:34:27   Log-Likelihood:                -3909.8\n",
       "No. Observations:                2868   AIC:                             7834.\n",
       "Df Residuals:                    2861   BIC:                             7875.\n",
       "Df Model:                           7                                         \n",
       "Covariance Type:            nonrobust                                         \n",
       "===============================================================================================\n",
       "                                  coef    std err          t      P>|t|      [0.025      0.975]\n",
       "-----------------------------------------------------------------------------------------------\n",
       "solar_production_l192           0.2127      0.020     10.422      0.000       0.173       0.253\n",
       "solar_production_l288          -0.0264      0.020     -1.305      0.192      -0.066       0.013\n",
       "solar_production_l384          -0.0153      0.018     -0.830      0.407      -0.051       0.021\n",
       "solar_production_l480           0.3211      0.018     17.362      0.000       0.285       0.357\n",
       "solar_production_l576           0.1748      0.018      9.657      0.000       0.139       0.210\n",
       "solar_production_l672           0.2488      0.019     13.275      0.000       0.212       0.286\n",
       "radiation_forecast_2days_l2     0.9231      0.136      6.786      0.000       0.656       1.190\n",
       "==============================================================================\n",
       "Omnibus:                      260.571   Durbin-Watson:                   0.028\n",
       "Prob(Omnibus):                  0.000   Jarque-Bera (JB):             1410.339\n",
       "Skew:                          -0.244   Prob(JB):                    5.61e-307\n",
       "Kurtosis:                       6.401   Cond. No.                         40.9\n",
       "==============================================================================\n",
       "\n",
       "Warnings:\n",
       "[1] Standard Errors assume that the covariance matrix of the errors is correctly specified.\n",
       "\"\"\""
      ]
     },
     "execution_count": 6,
     "metadata": {},
     "output_type": "execute_result"
    }
   ],
   "source": [
    "model.summary()"
   ]
  },
  {
   "cell_type": "code",
   "execution_count": 7,
   "metadata": {},
   "outputs": [
    {
     "name": "stdout",
     "output_type": "stream",
     "text": [
      "Start of testing: 2015-05-12 22:45:00\n",
      "End of testing: 2015-05-15 01:45:00\n",
      "Index(['const', 'solar_production', 'radiation'], dtype='object')\n",
      "Index(['const', 'solar_production', 'radiation', 'radiation_f2'], dtype='object')\n",
      "Index(['const', 'solar_production', 'radiation', 'radiation_forecast_2days'], dtype='object')\n",
      "rmse = 1.1852\n"
     ]
    },
    {
     "data": {
      "image/png": "[encoded data removed]",
      "text/plain": [
       "<Figure size 432x288 with 1 Axes>"
      ]
     },
     "metadata": {},
     "output_type": "display_data"
    },
    {
     "data": {
      "image/png": "[encoded data removed]",
      "text/plain": [
       "<Figure size 432x288 with 1 Axes>"
      ]
     },
     "metadata": {},
     "output_type": "display_data"
    }
   ],
   "source": [
    "modelling.evaluate_models(m1=(model, specs))"
   ]
  },
  {
   "cell_type": "code",
   "execution_count": null,
   "metadata": {},
   "outputs": [],
   "source": []
  }
 ],
 "metadata": {
  "anaconda-cloud": {},
  "kernelspec": {
   "display_name": "Python 3",
   "language": "python",
   "name": "python3"
  },
  "language_info": {
   "codemirror_mode": {
    "name": "ipython",
    "version": 3
   },
   "file_extension": ".py",
   "mimetype": "text/x-python",
   "name": "python",
   "nbconvert_exporter": "python",
   "pygments_lexer": "ipython3",
   "version": "3.6.5"
  }
 },
 "nbformat": 4,
 "nbformat_minor": 2
}
